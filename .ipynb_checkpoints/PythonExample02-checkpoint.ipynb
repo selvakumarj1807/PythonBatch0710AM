{
 "cells": [
  {
   "cell_type": "markdown",
   "id": "ef680a2b-0d4e-47b8-9b58-68b77ecad692",
   "metadata": {},
   "source": [
    "Python Operators\n",
    "----------------\n",
    "\n",
    "1. Arthmatic Operators\n",
    "2. Arthmatic Assignment Operators\n",
    "3. Relational or Comparision Operators\n",
    "4. Logical Operators\n",
    "5. In, Not In\n",
    "6. Is, Is Not\n",
    "7. Bitwise Operators"
   ]
  },
  {
   "cell_type": "markdown",
   "id": "b69accda-0ea8-42bf-9f08-3aecd51a6110",
   "metadata": {},
   "source": [
    "# 1. Arthmatic Operators\n",
    "------------------------"
   ]
  },
  {
   "cell_type": "code",
   "execution_count": 2,
   "id": "6d09d0e0-a1fa-4d6c-9a51-9aa8a077c267",
   "metadata": {},
   "outputs": [
    {
     "name": "stdout",
     "output_type": "stream",
     "text": [
      "Addition ( + ): 12\n",
      "Subtraction ( - ): 8\n",
      "Multiplication ( * ) : 20\n",
      "Division ( / ) : 5.0\n",
      "Modulas ( % ) : 0\n",
      "--------------------------------------------------------------\n",
      "Division ( / ) : 3.5\n",
      "Modulas ( % ) : 1\n",
      "--------------------------------------------------------------\n",
      "Floor Division ( // ) : 3\n",
      "Exponentiation ( ** ) : 49\n"
     ]
    }
   ],
   "source": [
    "a = 10\n",
    "\n",
    "b = 2\n",
    "\n",
    "print('Addition ( + ):', a + b)\n",
    "\n",
    "print('Subtraction ( - ):', a - b)\n",
    "\n",
    "print('Multiplication ( * ) :', a * b)\n",
    "\n",
    "print('Division ( / ) :', a / b) # Return Quotient Value\n",
    "\n",
    "print('Modulas ( % ) :', a % b) # Return Remainder Value\n",
    "\n",
    "print('--------------------------------------------------------------')\n",
    "\n",
    "a = 7\n",
    "\n",
    "b = 2\n",
    "\n",
    "print('Division ( / ) :', a / b)\n",
    "\n",
    "print('Modulas ( % ) :', a % b)\n",
    "\n",
    "print('--------------------------------------------------------------')\n",
    "\n",
    "a = 7\n",
    "\n",
    "b = 2\n",
    "\n",
    "print('Floor Division ( // ) :', a // b)\n",
    "\n",
    "print('Exponentiation ( ** ) :', a ** b) # a ** b --> 7 ** 2 --> 7 * 7 --> 49"
   ]
  },
  {
   "cell_type": "markdown",
   "id": "4a2ee7ef-4ba0-4f04-bc4a-a56c41e0cb11",
   "metadata": {},
   "source": [
    "# 2. Arthmatic Assignment Operators\n",
    "-----------------------------------"
   ]
  },
  {
   "cell_type": "code",
   "execution_count": 10,
   "id": "21f789ff-ae56-451c-9f5b-7e574da469b2",
   "metadata": {},
   "outputs": [
    {
     "name": "stdout",
     "output_type": "stream",
     "text": [
      "10\n",
      "20\n",
      "a += 1 :  21\n",
      "\n",
      "20\n",
      "a -= 1 :  19\n",
      "\n",
      "20\n",
      "a *= 1 :  20\n",
      "\n",
      "20\n",
      "a /= 1 :  20.0\n",
      "\n",
      "20\n",
      "a //= 1 :  20\n",
      "\n",
      "20\n",
      "a **= 1 :  400\n"
     ]
    }
   ],
   "source": [
    "# Assignment Operators\n",
    "\n",
    "a = 10\n",
    "\n",
    "print(a)\n",
    "\n",
    "# Arithmatic Assignment Operators : (+=, -=, *=, /=, //=, **=, %=)\n",
    "\n",
    "a = 20\n",
    "print(a)\n",
    "\n",
    "a += 1 # a = a + 1\n",
    "\n",
    "print('a += 1 : ', a)\n",
    "print('')\n",
    "\n",
    "a = 20\n",
    "print(a)\n",
    "\n",
    "a -= 1 # a = a - 1\n",
    "\n",
    "print('a -= 1 : ', a)\n",
    "print('')\n",
    "\n",
    "a = 20\n",
    "print(a)\n",
    "\n",
    "a *= 1 # a = a * 1\n",
    "\n",
    "print('a *= 1 : ', a)\n",
    "print('')\n",
    "\n",
    "a = 20\n",
    "print(a)\n",
    "\n",
    "a /= 1 # a = a / 1\n",
    "\n",
    "print('a /= 1 : ', a)\n",
    "print('')\n",
    "\n",
    "a = 20\n",
    "print(a)\n",
    "\n",
    "a //= 1 # a = a / 1\n",
    "\n",
    "print('a //= 1 : ', a)\n",
    "print('')\n",
    "\n",
    "a = 20\n",
    "print(a)\n",
    "\n",
    "a **= 2 # a = a ** 2 ---> a = 20 * 20\n",
    "\n",
    "print('a **= 1 : ', a)\n"
   ]
  },
  {
   "cell_type": "markdown",
   "id": "c349c666-f2fe-443a-a5ac-12a84f0e4c7d",
   "metadata": {},
   "source": [
    "# 3. Relational or Comparision Operators\n",
    "----------------------------------------"
   ]
  },
  {
   "cell_type": "code",
   "execution_count": 21,
   "id": "96ed011f-13fd-4db7-b303-2ce7b8d9db99",
   "metadata": {},
   "outputs": [
    {
     "name": "stdout",
     "output_type": "stream",
     "text": [
      "10 == 2 :  False\n",
      "10 != 2 :  True\n",
      "10 > 10 :  True\n",
      "10 < 10 :  False\n",
      "10 >= 10 :  True\n",
      "10 <= 10 :  False\n"
     ]
    }
   ],
   "source": [
    "a = 10\n",
    "b = 2\n",
    "\n",
    "print('10 == 2 : ', a == b)\n",
    "\n",
    "print('10 != 2 : ', a != b)\n",
    "\n",
    "print('10 > 10 : ', a > b)\n",
    "\n",
    "print('10 < 10 : ', a < b)\n",
    "\n",
    "print('10 >= 10 : ', a >= b)\n",
    "\n",
    "print('10 <= 10 : ', a <= b)"
   ]
  },
  {
   "cell_type": "markdown",
   "id": "8c2cb06c-e931-4a9f-931c-f1358c67f4cf",
   "metadata": {},
   "source": [
    "# 4. Logical Operators\n",
    "----------------------"
   ]
  },
  {
   "cell_type": "code",
   "execution_count": 30,
   "id": "cdcb8cdd-abb8-434f-af36-d30f50f33879",
   "metadata": {},
   "outputs": [
    {
     "name": "stdout",
     "output_type": "stream",
     "text": [
      "False\n",
      "True\n",
      "\n",
      "Logical And Operators : \n",
      "False\n",
      "\n",
      "Logical Or Operators : \n",
      "True\n",
      "\n",
      "Logical Not Operators : \n",
      "True\n",
      "False\n"
     ]
    }
   ],
   "source": [
    "\n",
    "print(10 == 2)\n",
    "\n",
    "print(10 != 2)\n",
    "\n",
    "print('')\n",
    "print('Logical And Operators : ')\n",
    "\n",
    "print((10 == 2) and (10 != 2)) # Any one condition have a false then everything is false\n",
    "\n",
    "print('')\n",
    "print('Logical Or Operators : ')\n",
    "\n",
    "print((10 == 2) or (10 != 2)) # Any one condition have a true then everything is true\n",
    "\n",
    "print('')\n",
    "print('Logical Not Operators : ')\n",
    "\n",
    "print(not(10 == 2)) \n",
    "\n",
    "print(not((10 == 2) or (10 != 2)))"
   ]
  },
  {
   "cell_type": "markdown",
   "id": "bd7f9d5a-860f-4009-8fc4-6cfe8f2fc44f",
   "metadata": {},
   "source": [
    "If Condition\n",
    "------------"
   ]
  },
  {
   "cell_type": "code",
   "execution_count": 33,
   "id": "28708d51-920d-4a0a-af41-e1ab07d37650",
   "metadata": {},
   "outputs": [
    {
     "name": "stdout",
     "output_type": "stream",
     "text": [
      "True\n",
      "----------------------------------------------------\n",
      "19 So you are eligible for vote\n"
     ]
    }
   ],
   "source": [
    "age = 19\n",
    "\n",
    "print(age >= 18)\n",
    "\n",
    "print('----------------------------------------------------')\n",
    "\n",
    "if age >= 18:\n",
    "    print(age, 'So you are eligible for vote')"
   ]
  },
  {
   "cell_type": "markdown",
   "id": "b4286c05-5a35-4e65-a95f-44d3a344e618",
   "metadata": {},
   "source": [
    "If Else Condition\n",
    "-----------------"
   ]
  },
  {
   "cell_type": "code",
   "execution_count": 35,
   "id": "c0752451-591c-4800-9513-916d6706f190",
   "metadata": {},
   "outputs": [
    {
     "name": "stdout",
     "output_type": "stream",
     "text": [
      "False\n",
      "----------------------------------------------------\n",
      "12 So you are not eligible for vote\n"
     ]
    }
   ],
   "source": [
    "age = 12\n",
    "\n",
    "print(age >= 18)\n",
    "\n",
    "print('----------------------------------------------------')\n",
    "\n",
    "if age >= 18\n",
    "    print(age, 'So you are eligible for vote')\n",
    "\n",
    "else:\n",
    "    print(age, 'So you are not eligible for vote')"
   ]
  },
  {
   "cell_type": "code",
   "execution_count": null,
   "id": "18802036-28c3-43c3-a5ed-ef23abb638c1",
   "metadata": {},
   "outputs": [],
   "source": []
  }
 ],
 "metadata": {
  "kernelspec": {
   "display_name": "Python 3 (ipykernel)",
   "language": "python",
   "name": "python3"
  },
  "language_info": {
   "codemirror_mode": {
    "name": "ipython",
    "version": 3
   },
   "file_extension": ".py",
   "mimetype": "text/x-python",
   "name": "python",
   "nbconvert_exporter": "python",
   "pygments_lexer": "ipython3",
   "version": "3.13.2"
  }
 },
 "nbformat": 4,
 "nbformat_minor": 5
}
