{
 "cells": [
  {
   "cell_type": "markdown",
   "id": "6ecdc09d-6b3d-4f10-96b7-1a99998e3a81",
   "metadata": {},
   "source": [
    "Python Basics\n",
    "-------------"
   ]
  },
  {
   "cell_type": "code",
   "execution_count": 3,
   "id": "3f301578-9761-4fd2-8eaa-e45f27a72bea",
   "metadata": {},
   "outputs": [
    {
     "name": "stdout",
     "output_type": "stream",
     "text": [
      "Hello World\n",
      "-----------------------------------------------\n",
      "20\n"
     ]
    }
   ],
   "source": [
    "print('Hello World')\n",
    "\n",
    "print('-----------------------------------------------')\n",
    "\n",
    "print(20)"
   ]
  },
  {
   "cell_type": "markdown",
   "id": "31277bdf-a3b8-44ec-9b5c-f6d5cb676296",
   "metadata": {},
   "source": [
    "Datatypes & Variables\n",
    "---------------------"
   ]
  },
  {
   "cell_type": "code",
   "execution_count": 4,
   "id": "06ac1d07-cdbf-4513-be90-4465e8ecd6a0",
   "metadata": {},
   "outputs": [
    {
     "name": "stdout",
     "output_type": "stream",
     "text": [
      "Hello World\n",
      "20\n"
     ]
    }
   ],
   "source": [
    "# Variables\n",
    "\n",
    "msg = 'Hello World'\n",
    "\n",
    "age = 20\n",
    "\n",
    "print(msg)\n",
    "\n",
    "print(age)"
   ]
  },
  {
   "cell_type": "markdown",
   "id": "a3be969b-f212-4f63-b531-8b0e7033878a",
   "metadata": {},
   "source": [
    "# Data Types\n",
    "------------\n",
    "\n",
    "1. Integer(int) - 0 to 9\n",
    "2. Float (Decimal Values) - 10.5, 20.5\n",
    "3. String - a to z, A to Z, All special characters(!, @, #, $, %, ^, &, *,...) - using with in single quote '' \n",
    "4. Boolean Datatype - True, False"
   ]
  },
  {
   "cell_type": "code",
   "execution_count": 6,
   "id": "ea0d48db-5752-4bab-b5aa-f583cd4eabc0",
   "metadata": {},
   "outputs": [
    {
     "name": "stdout",
     "output_type": "stream",
     "text": [
      "Sara <class 'str'>\n",
      "25 <class 'int'>\n",
      "88.5 <class 'float'>\n",
      "False <class 'bool'>\n"
     ]
    }
   ],
   "source": [
    "name = 'Sara'\n",
    "\n",
    "age = 25\n",
    "\n",
    "average = 88.5\n",
    "\n",
    "married = False\n",
    "\n",
    "print(name, type(name))\n",
    "\n",
    "print(age, type(age))\n",
    "\n",
    "print(average, type(average))\n",
    "\n",
    "print(married, type(married))"
   ]
  },
  {
   "cell_type": "markdown",
   "id": "674fab5e-f479-4c82-afb3-a2f70b324709",
   "metadata": {},
   "source": [
    "Python Inputs:\n",
    "--------------"
   ]
  },
  {
   "cell_type": "code",
   "execution_count": 9,
   "id": "c1808e1f-cbcd-4633-9caa-748cc788c0d1",
   "metadata": {},
   "outputs": [
    {
     "name": "stdin",
     "output_type": "stream",
     "text": [
      "Enter your name :  Selva\n",
      "Enter your sge 25\n",
      "Enter your average value 85.5\n"
     ]
    },
    {
     "name": "stdout",
     "output_type": "stream",
     "text": [
      "Selva <class 'str'>\n",
      "25 <class 'int'>\n",
      "85.5 <class 'float'>\n"
     ]
    }
   ],
   "source": [
    "name = input('Enter your name : ')\n",
    "\n",
    "age = int(input('Enter your age'))\n",
    "\n",
    "average = float(input('Enter your average value'))\n",
    "\n",
    "print(name, type(name))\n",
    "\n",
    "print(age, type(age))\n",
    "\n",
    "print(average, type(average))\n"
   ]
  },
  {
   "cell_type": "code",
   "execution_count": null,
   "id": "088e5967-3a37-4905-b7fe-edcb17bb6a3b",
   "metadata": {},
   "outputs": [],
   "source": []
  }
 ],
 "metadata": {
  "kernelspec": {
   "display_name": "Python 3 (ipykernel)",
   "language": "python",
   "name": "python3"
  },
  "language_info": {
   "codemirror_mode": {
    "name": "ipython",
    "version": 3
   },
   "file_extension": ".py",
   "mimetype": "text/x-python",
   "name": "python",
   "nbconvert_exporter": "python",
   "pygments_lexer": "ipython3",
   "version": "3.13.2"
  }
 },
 "nbformat": 4,
 "nbformat_minor": 5
}
