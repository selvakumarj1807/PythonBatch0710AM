{
 "cells": [
  {
   "cell_type": "markdown",
   "id": "4b58d84b-3f1f-4737-8c99-df62937e2ae2",
   "metadata": {},
   "source": [
    "While Loop\n",
    "----------"
   ]
  },
  {
   "cell_type": "code",
   "execution_count": 3,
   "id": "f3606a83-46ac-4ae4-8905-d58b92e2ed0e",
   "metadata": {},
   "outputs": [
    {
     "name": "stdout",
     "output_type": "stream",
     "text": [
      "0\n",
      "1\n",
      "2\n",
      "3\n",
      "4\n",
      "5\n",
      "6\n",
      "7\n",
      "8\n",
      "9\n"
     ]
    }
   ],
   "source": [
    "'''\n",
    "Example 01:\n",
    "-----------\n",
    "'''\n",
    "\n",
    "i = 0 # value Initailization\n",
    "\n",
    "\n",
    "while i < 10:  # value Condition\n",
    "    print(i)\n",
    "\n",
    "    i = i + 1 # value Increment"
   ]
  },
  {
   "cell_type": "code",
   "execution_count": 4,
   "id": "f3c88b22-246a-4ca7-a952-66a3efd77c95",
   "metadata": {},
   "outputs": [
    {
     "name": "stdout",
     "output_type": "stream",
     "text": [
      "0\n",
      "2\n",
      "4\n",
      "6\n",
      "8\n"
     ]
    }
   ],
   "source": [
    "'''\n",
    "Example 02:\n",
    "-----------\n",
    "'''\n",
    "\n",
    "i = 0 # value Initailization\n",
    "\n",
    "\n",
    "while i < 10:  # value Condition\n",
    "    print(i)\n",
    "\n",
    "    i = i + 2 # value Increment"
   ]
  },
  {
   "cell_type": "code",
   "execution_count": 5,
   "id": "e5a86d71-896a-4118-8a77-72a585b30362",
   "metadata": {
    "scrolled": true
   },
   "outputs": [
    {
     "name": "stdout",
     "output_type": "stream",
     "text": [
      "1\n",
      "3\n",
      "5\n",
      "7\n",
      "9\n"
     ]
    }
   ],
   "source": [
    "'''\n",
    "Example 03:\n",
    "-----------\n",
    "'''\n",
    "\n",
    "i = 1 # value Initailization\n",
    "\n",
    "\n",
    "while i < 10:  # value Condition\n",
    "    print(i)\n",
    "\n",
    "    i = i + 2 # value Increment"
   ]
  },
  {
   "cell_type": "code",
   "execution_count": 2,
   "id": "a6b02772-d66b-4438-9068-30333f8b3d57",
   "metadata": {},
   "outputs": [
    {
     "name": "stdout",
     "output_type": "stream",
     "text": [
      "0\n",
      "2\n",
      "4\n",
      "6\n",
      "8\n",
      "10\n",
      "12\n",
      "14\n",
      "16\n",
      "18\n",
      "20\n"
     ]
    }
   ],
   "source": [
    "'''\n",
    "Example 04:\n",
    "-----------\n",
    "'''\n",
    "\n",
    "\n",
    "i = 0\n",
    "\n",
    "boolValue = True;\n",
    "\n",
    "while boolValue:  # value Condition\n",
    "    print(i)\n",
    "\n",
    "    i = i + 2 # value Increment\n",
    "\n",
    "    if i == 22:\n",
    "        boolValue = False"
   ]
  },
  {
   "cell_type": "markdown",
   "id": "c5e23b97-a8af-440a-b137-08703fb0faaf",
   "metadata": {},
   "source": [
    "Break Statement :\n",
    "-----------------"
   ]
  },
  {
   "cell_type": "code",
   "execution_count": 3,
   "id": "1bbd744a-e1ff-4012-8ff4-42e767d5b615",
   "metadata": {},
   "outputs": [
    {
     "name": "stdout",
     "output_type": "stream",
     "text": [
      "0\n",
      "2\n",
      "4\n",
      "6\n",
      "8\n",
      "10\n",
      "12\n",
      "14\n",
      "16\n",
      "18\n",
      "20\n"
     ]
    }
   ],
   "source": [
    "'''\n",
    "Example 05:\n",
    "-----------\n",
    "'''\n",
    "\n",
    "\n",
    "i = 0\n",
    "\n",
    "boolValue = True;\n",
    "\n",
    "while boolValue:  # value Condition\n",
    "    print(i)\n",
    "\n",
    "    i = i + 2 # value Increment\n",
    "\n",
    "    if i == 22:\n",
    "        break"
   ]
  },
  {
   "cell_type": "code",
   "execution_count": 4,
   "id": "96844947-e911-4415-9a15-e7de39f585bd",
   "metadata": {},
   "outputs": [
    {
     "name": "stdout",
     "output_type": "stream",
     "text": [
      "0\n",
      "1\n",
      "2\n",
      "3\n",
      "4\n",
      "5\n",
      "6\n",
      "7\n"
     ]
    }
   ],
   "source": [
    "i = 0 # value Initailization\n",
    "\n",
    "\n",
    "while i < 10:  # value Condition\n",
    "    print(i)\n",
    "\n",
    "    if i == 7:\n",
    "        break\n",
    "        print('Break Statement Completed')\n",
    "\n",
    "    i = i + 1 # value Increment"
   ]
  },
  {
   "cell_type": "markdown",
   "id": "dd0779b6-706c-4359-b967-9ef1d0383a6f",
   "metadata": {},
   "source": [
    "Continue Staement \n",
    "-----------------"
   ]
  },
  {
   "cell_type": "code",
   "execution_count": 5,
   "id": "dc6b5178-6540-4daa-8463-60f36c14860e",
   "metadata": {},
   "outputs": [
    {
     "name": "stdout",
     "output_type": "stream",
     "text": [
      "0\n",
      "1\n",
      "2\n",
      "3\n",
      "4\n",
      "5\n",
      "6\n",
      "7\n",
      "8\n",
      "9\n"
     ]
    }
   ],
   "source": [
    "i = 0 # value Initailization\n",
    "\n",
    "\n",
    "while i < 10:  # value Condition\n",
    "    print(i)\n",
    "    i = i + 1 # value Increment\n",
    "    \n",
    "    if i == 7:\n",
    "        continue\n",
    "        print('Break Statement Completed')\n",
    "        \n",
    "\n"
   ]
  },
  {
   "cell_type": "markdown",
   "id": "11033ec0-bd22-4b05-a07e-a1c474ad5d2c",
   "metadata": {},
   "source": [
    "Pass Statement\n",
    "--------------"
   ]
  },
  {
   "cell_type": "code",
   "execution_count": 6,
   "id": "611f6228-f91e-4f74-ba5b-9ce64612fddd",
   "metadata": {},
   "outputs": [
    {
     "name": "stdout",
     "output_type": "stream",
     "text": [
      "0\n",
      "1\n",
      "2\n",
      "3\n",
      "4\n",
      "5\n",
      "6\n",
      "Break Statement Completed\n",
      "7\n",
      "8\n",
      "9\n"
     ]
    }
   ],
   "source": [
    "i = 0 # value Initailization\n",
    "\n",
    "\n",
    "while i < 10:  # value Condition\n",
    "    print(i)\n",
    "    i = i + 1 # value Increment\n",
    "    \n",
    "    if i == 7:\n",
    "        pass\n",
    "        print('Break Statement Completed')\n",
    "        "
   ]
  },
  {
   "cell_type": "code",
   "execution_count": 1,
   "id": "65436b16-f28f-4858-b86c-7528b0043477",
   "metadata": {},
   "outputs": [
    {
     "name": "stdout",
     "output_type": "stream",
     "text": [
      "1  *  2  =  2\n",
      "2  *  2  =  4\n",
      "3  *  2  =  6\n",
      "4  *  2  =  8\n",
      "5  *  2  =  10\n",
      "6  *  2  =  12\n",
      "7  *  2  =  14\n",
      "8  *  2  =  16\n",
      "9  *  2  =  18\n",
      "10  *  2  =  20\n"
     ]
    }
   ],
   "source": [
    "'''\n",
    "Exaple:\n",
    "-------\n",
    "'''\n",
    "\n",
    "i = 1\n",
    "\n",
    "n = 10\n",
    "\n",
    "table = 2\n",
    "\n",
    "while i <= n:\n",
    "    answer = i * table\n",
    "\n",
    "    print(i, ' * ', table, ' = ', answer)\n",
    "\n",
    "    i = i + 1\n",
    "\n",
    "    "
   ]
  },
  {
   "cell_type": "code",
   "execution_count": null,
   "id": "4bff32b6-38e1-494f-b879-f11b2cca2eb1",
   "metadata": {},
   "outputs": [],
   "source": [
    "'''\n",
    "To Day Task\n",
    "\n",
    " 2 * 1  =  2\n",
    " 2 * 2  =  4\n",
    " 2 * 3  =  6\n",
    " 2 * 4  =  8\n",
    " 2 * 5  =  10\n",
    "\n",
    "'''"
   ]
  }
 ],
 "metadata": {
  "kernelspec": {
   "display_name": "Python 3 (ipykernel)",
   "language": "python",
   "name": "python3"
  },
  "language_info": {
   "codemirror_mode": {
    "name": "ipython",
    "version": 3
   },
   "file_extension": ".py",
   "mimetype": "text/x-python",
   "name": "python",
   "nbconvert_exporter": "python",
   "pygments_lexer": "ipython3",
   "version": "3.13.2"
  }
 },
 "nbformat": 4,
 "nbformat_minor": 5
}
