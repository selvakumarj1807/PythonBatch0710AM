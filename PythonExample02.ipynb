{
 "cells": [
  {
   "cell_type": "markdown",
   "id": "ef680a2b-0d4e-47b8-9b58-68b77ecad692",
   "metadata": {},
   "source": [
    "Python Operators\n",
    "----------------\n",
    "\n",
    "1. Arthmatic Operators\n",
    "2. Arthmatic Assignment Operators\n",
    "3. Relational or Comparision Operators\n",
    "4. Logical Operators\n",
    "5. In, Not In\n",
    "6. Is, Is Not\n",
    "7. Bitwise Operators"
   ]
  },
  {
   "cell_type": "markdown",
   "id": "b69accda-0ea8-42bf-9f08-3aecd51a6110",
   "metadata": {},
   "source": [
    "# 1. Arthmatic Operators\n",
    "------------------------"
   ]
  },
  {
   "cell_type": "code",
   "execution_count": 2,
   "id": "6d09d0e0-a1fa-4d6c-9a51-9aa8a077c267",
   "metadata": {},
   "outputs": [
    {
     "name": "stdout",
     "output_type": "stream",
     "text": [
      "Addition ( + ): 12\n",
      "Subtraction ( - ): 8\n",
      "Multiplication ( * ) : 20\n",
      "Division ( / ) : 5.0\n",
      "Modulas ( % ) : 0\n",
      "--------------------------------------------------------------\n",
      "Division ( / ) : 3.5\n",
      "Modulas ( % ) : 1\n",
      "--------------------------------------------------------------\n",
      "Floor Division ( // ) : 3\n",
      "Exponentiation ( ** ) : 49\n"
     ]
    }
   ],
   "source": [
    "a = 10\n",
    "\n",
    "b = 2\n",
    "\n",
    "print('Addition ( + ):', a + b)\n",
    "\n",
    "print('Subtraction ( - ):', a - b)\n",
    "\n",
    "print('Multiplication ( * ) :', a * b)\n",
    "\n",
    "print('Division ( / ) :', a / b) # Return Quotient Value\n",
    "\n",
    "print('Modulas ( % ) :', a % b) # Return Remainder Value\n",
    "\n",
    "print('--------------------------------------------------------------')\n",
    "\n",
    "a = 7\n",
    "\n",
    "b = 2\n",
    "\n",
    "print('Division ( / ) :', a / b)\n",
    "\n",
    "print('Modulas ( % ) :', a % b)\n",
    "\n",
    "print('--------------------------------------------------------------')\n",
    "\n",
    "a = 7\n",
    "\n",
    "b = 2\n",
    "\n",
    "print('Floor Division ( // ) :', a // b)\n",
    "\n",
    "print('Exponentiation ( ** ) :', a ** b) # a ** b --> 7 ** 2 --> 7 * 7 --> 49"
   ]
  },
  {
   "cell_type": "markdown",
   "id": "4a2ee7ef-4ba0-4f04-bc4a-a56c41e0cb11",
   "metadata": {},
   "source": [
    "# 2. Arthmatic Assignment Operators\n",
    "-----------------------------------"
   ]
  },
  {
   "cell_type": "code",
   "execution_count": 10,
   "id": "21f789ff-ae56-451c-9f5b-7e574da469b2",
   "metadata": {},
   "outputs": [
    {
     "name": "stdout",
     "output_type": "stream",
     "text": [
      "10\n",
      "20\n",
      "a += 1 :  21\n",
      "\n",
      "20\n",
      "a -= 1 :  19\n",
      "\n",
      "20\n",
      "a *= 1 :  20\n",
      "\n",
      "20\n",
      "a /= 1 :  20.0\n",
      "\n",
      "20\n",
      "a //= 1 :  20\n",
      "\n",
      "20\n",
      "a **= 1 :  400\n"
     ]
    }
   ],
   "source": [
    "# Assignment Operators\n",
    "\n",
    "a = 10\n",
    "\n",
    "print(a)\n",
    "\n",
    "# Arithmatic Assignment Operators : (+=, -=, *=, /=, //=, **=, %=)\n",
    "\n",
    "a = 20\n",
    "print(a)\n",
    "\n",
    "a += 1 # a = a + 1\n",
    "\n",
    "print('a += 1 : ', a)\n",
    "print('')\n",
    "\n",
    "a = 20\n",
    "print(a)\n",
    "\n",
    "a -= 1 # a = a - 1\n",
    "\n",
    "print('a -= 1 : ', a)\n",
    "print('')\n",
    "\n",
    "a = 20\n",
    "print(a)\n",
    "\n",
    "a *= 1 # a = a * 1\n",
    "\n",
    "print('a *= 1 : ', a)\n",
    "print('')\n",
    "\n",
    "a = 20\n",
    "print(a)\n",
    "\n",
    "a /= 1 # a = a / 1\n",
    "\n",
    "print('a /= 1 : ', a)\n",
    "print('')\n",
    "\n",
    "a = 20\n",
    "print(a)\n",
    "\n",
    "a //= 1 # a = a / 1\n",
    "\n",
    "print('a //= 1 : ', a)\n",
    "print('')\n",
    "\n",
    "a = 20\n",
    "print(a)\n",
    "\n",
    "a **= 2 # a = a ** 2 ---> a = 20 * 20\n",
    "\n",
    "print('a **= 1 : ', a)\n"
   ]
  },
  {
   "cell_type": "markdown",
   "id": "c349c666-f2fe-443a-a5ac-12a84f0e4c7d",
   "metadata": {},
   "source": [
    "# 3. Relational or Comparision Operators\n",
    "----------------------------------------"
   ]
  },
  {
   "cell_type": "code",
   "execution_count": 21,
   "id": "96ed011f-13fd-4db7-b303-2ce7b8d9db99",
   "metadata": {},
   "outputs": [
    {
     "name": "stdout",
     "output_type": "stream",
     "text": [
      "10 == 2 :  False\n",
      "10 != 2 :  True\n",
      "10 > 10 :  True\n",
      "10 < 10 :  False\n",
      "10 >= 10 :  True\n",
      "10 <= 10 :  False\n"
     ]
    }
   ],
   "source": [
    "a = 10\n",
    "b = 2\n",
    "\n",
    "print('10 == 2 : ', a == b)\n",
    "\n",
    "print('10 != 2 : ', a != b)\n",
    "\n",
    "print('10 > 10 : ', a > b)\n",
    "\n",
    "print('10 < 10 : ', a < b)\n",
    "\n",
    "print('10 >= 10 : ', a >= b)\n",
    "\n",
    "print('10 <= 10 : ', a <= b)"
   ]
  },
  {
   "cell_type": "markdown",
   "id": "8c2cb06c-e931-4a9f-931c-f1358c67f4cf",
   "metadata": {},
   "source": [
    "# 4. Logical Operators\n",
    "----------------------"
   ]
  },
  {
   "cell_type": "code",
   "execution_count": 30,
   "id": "cdcb8cdd-abb8-434f-af36-d30f50f33879",
   "metadata": {},
   "outputs": [
    {
     "name": "stdout",
     "output_type": "stream",
     "text": [
      "False\n",
      "True\n",
      "\n",
      "Logical And Operators : \n",
      "False\n",
      "\n",
      "Logical Or Operators : \n",
      "True\n",
      "\n",
      "Logical Not Operators : \n",
      "True\n",
      "False\n"
     ]
    }
   ],
   "source": [
    "\n",
    "print(10 == 2)\n",
    "\n",
    "print(10 != 2)\n",
    "\n",
    "print('')\n",
    "print('Logical And Operators : ')\n",
    "\n",
    "print((10 == 2) and (10 != 2)) # Any one condition have a false then everything is false\n",
    "\n",
    "print('')\n",
    "print('Logical Or Operators : ')\n",
    "\n",
    "print((10 == 2) or (10 != 2)) # Any one condition have a true then everything is true\n",
    "\n",
    "print('')\n",
    "print('Logical Not Operators : ')\n",
    "\n",
    "print(not(10 == 2)) \n",
    "\n",
    "print(not((10 == 2) or (10 != 2)))"
   ]
  },
  {
   "cell_type": "markdown",
   "id": "bd7f9d5a-860f-4009-8fc4-6cfe8f2fc44f",
   "metadata": {},
   "source": [
    "If Condition\n",
    "------------"
   ]
  },
  {
   "cell_type": "code",
   "execution_count": 33,
   "id": "28708d51-920d-4a0a-af41-e1ab07d37650",
   "metadata": {},
   "outputs": [
    {
     "name": "stdout",
     "output_type": "stream",
     "text": [
      "True\n",
      "----------------------------------------------------\n",
      "19 So you are eligible for vote\n"
     ]
    }
   ],
   "source": [
    "age = 19\n",
    "\n",
    "print(age >= 18)\n",
    "\n",
    "print('----------------------------------------------------')\n",
    "\n",
    "if age >= 18:\n",
    "    print(age, 'So you are eligible for vote')"
   ]
  },
  {
   "cell_type": "markdown",
   "id": "b4286c05-5a35-4e65-a95f-44d3a344e618",
   "metadata": {},
   "source": [
    "If Else Condition\n",
    "-----------------"
   ]
  },
  {
   "cell_type": "code",
   "execution_count": 1,
   "id": "c0752451-591c-4800-9513-916d6706f190",
   "metadata": {},
   "outputs": [
    {
     "name": "stdout",
     "output_type": "stream",
     "text": [
      "False\n",
      "----------------------------------------------------\n",
      "12 So you are not eligible for vote\n"
     ]
    }
   ],
   "source": [
    "age = 12\n",
    "\n",
    "print(age >= 18)\n",
    "\n",
    "print('----------------------------------------------------')\n",
    "\n",
    "if age >= 18:\n",
    "    print(age, 'So you are eligible for vote')\n",
    "\n",
    "else:\n",
    "    print(age, 'So you are not eligible for vote')"
   ]
  },
  {
   "cell_type": "markdown",
   "id": "2e55f2a6-c695-406f-aced-6304053fb03d",
   "metadata": {},
   "source": [
    "If Elif Else:\n",
    "-------------"
   ]
  },
  {
   "cell_type": "code",
   "execution_count": 5,
   "id": "6453af4b-9899-4193-b8b6-a8f65537cc88",
   "metadata": {},
   "outputs": [
    {
     "name": "stdout",
     "output_type": "stream",
     "text": [
      "False\n",
      "False\n",
      "----------------------------------------------------\n",
      "16 So you are not eligible for vote\n"
     ]
    }
   ],
   "source": [
    "age = 16\n",
    "\n",
    "print(age >= 18) # 17 >= 18\n",
    "print(age >= 17)\n",
    "print('----------------------------------------------------')\n",
    "\n",
    "if age >= 18:\n",
    "    print(age, 'So you are eligible for vote')\n",
    "elif age >= 17:\n",
    "    print('Your age is ', age, 'So Wait one year for vote eligible')\n",
    "else:\n",
    "    print(age, 'So you are not eligible for vote')"
   ]
  },
  {
   "cell_type": "markdown",
   "id": "d62185ea-9cc7-4ff7-b484-16dc075e87ae",
   "metadata": {},
   "source": [
    "Nested If:\n",
    "----------"
   ]
  },
  {
   "cell_type": "code",
   "execution_count": 26,
   "id": "d0925f76-ae9d-45c9-9e06-e3a194c9bc7c",
   "metadata": {},
   "outputs": [
    {
     "name": "stdout",
     "output_type": "stream",
     "text": [
      "False\n",
      "---------------------------------------------------------\n",
      "Fail\n",
      "Mark 01:  25 So You are fail\n",
      "Mark 02:  28 So Yoe are fail\n",
      "Mark 03:  19 So Yoe are fail\n"
     ]
    }
   ],
   "source": [
    "mark1 = 25\n",
    "mark2 = 28\n",
    "mark3 = 19\n",
    "\n",
    "print(mark1 >= 35 and mark2 >= 35 and mark3 >= 35)\n",
    "\n",
    "print('---------------------------------------------------------')\n",
    "\n",
    "if (mark1 >= 35 and mark2 >= 35 and mark3 >= 35):\n",
    "    print('Pass')\n",
    "    total = mark1 + mark2 + mark3\n",
    "    avg = total / 3\n",
    "\n",
    "    print(\"Total's : \", total,' - ', avg)\n",
    "\n",
    "    if (avg >= 90 and avg <= 100):\n",
    "        print('A+ Grade')\n",
    "\n",
    "    elif (avg >= 80 and avg <= 90):\n",
    "        print('B+ Grade')\n",
    "\n",
    "    elif (avg >= 70 and avg <= 80):\n",
    "        print('C+ Grade')\n",
    "\n",
    "    else:\n",
    "        print('D Grade')\n",
    "else:\n",
    "    print('Fail')\n",
    "\n",
    "    if mark1 <= 35:\n",
    "        print('Mark 01: ', mark1, 'So You are fail')\n",
    "\n",
    "    if mark2 <= 35:\n",
    "        print('Mark 02: ', mark2, 'So Yoe are fail')\n",
    "\n",
    "    if mark3 <= 35:\n",
    "        print('Mark 03: ', mark3, 'So Yoe are fail')\n",
    "      "
   ]
  },
  {
   "cell_type": "markdown",
   "id": "b02870c3-f0f8-40a4-b18e-ddf531c5f941",
   "metadata": {},
   "source": [
    "# 5. In, Not In\n",
    "---------------"
   ]
  },
  {
   "cell_type": "code",
   "execution_count": 28,
   "id": "bada74bf-9c34-4b2d-ba3b-73ec2a8175af",
   "metadata": {},
   "outputs": [
    {
     "name": "stdout",
     "output_type": "stream",
     "text": [
      "Sara <class 'str'>\n",
      "---------------------------------------------------\n",
      "['Sara', 25, 9500912258] <class 'list'>\n"
     ]
    }
   ],
   "source": [
    "details = 'Sara'\n",
    "\n",
    "print(details, type(details))\n",
    "\n",
    "print('---------------------------------------------------')\n",
    "\n",
    "details = ['Sara', 25, 9500912258]\n",
    "\n",
    "print(details, type(details))"
   ]
  },
  {
   "cell_type": "code",
   "execution_count": 30,
   "id": "1240301f-788e-45da-964d-e1963b223319",
   "metadata": {},
   "outputs": [
    {
     "name": "stdout",
     "output_type": "stream",
     "text": [
      "['Sara', 25, 9500912258] <class 'list'>\n",
      "---------------------------------------------------\n",
      "True\n",
      "False\n"
     ]
    }
   ],
   "source": [
    "# In, Not In - Membershop Operator\n",
    "\n",
    "details = ['Sara', 25, 9500912258]\n",
    "\n",
    "print(details, type(details))\n",
    "\n",
    "print('---------------------------------------------------')\n",
    "\n",
    "print('Sara' in details)\n",
    "\n",
    "print('Sara' not in details)"
   ]
  },
  {
   "cell_type": "markdown",
   "id": "21dd72f8-8f1c-4e08-bb1f-93d019b984fd",
   "metadata": {},
   "source": [
    "# 6. Is, Is Not\n",
    "---------------"
   ]
  },
  {
   "cell_type": "code",
   "execution_count": 35,
   "id": "422d4ab8-897d-4743-89fa-e8b8c8d653cb",
   "metadata": {},
   "outputs": [
    {
     "name": "stdout",
     "output_type": "stream",
     "text": [
      "2319651102544\n",
      "2319651102544\n",
      "---------------------------------------\n",
      "True\n",
      "False\n"
     ]
    }
   ],
   "source": [
    "# Identity Operators\n",
    "\n",
    "details = 'Sara'\n",
    "\n",
    "name = 'Sara'\n",
    "\n",
    "print(id(details))\n",
    "\n",
    "print(id(name))\n",
    "\n",
    "print('---------------------------------------')\n",
    "\n",
    "print(details is name)\n",
    "\n",
    "print(details is not name)"
   ]
  },
  {
   "cell_type": "markdown",
   "id": "03767b74-6830-4960-8bd9-98f3c39ea49b",
   "metadata": {},
   "source": [
    "# 7. Bitwise Operators\n",
    "----------------------\n",
    "\n",
    "1. Bitwise And Operators - (&)\n",
    "2. Bitwise Or Operators - (|)\n",
    "3. Bitwise Xor Operators - (^)\n",
    "4. Bitwise Not Operators - (~)\n",
    "5. Left Shift Operators - (<<)\n",
    "6. Rigth Shift Operators - (>>)"
   ]
  },
  {
   "cell_type": "code",
   "execution_count": 36,
   "id": "5e2b952a-e11d-4b5a-a789-0718e8daf9da",
   "metadata": {},
   "outputs": [
    {
     "name": "stdout",
     "output_type": "stream",
     "text": [
      "Bitwise And Operators - (&) :  2\n"
     ]
    }
   ],
   "source": [
    "# 1. Bitwise And Operators - (&)\n",
    "\n",
    "'''\n",
    "a = 10 = 1010\n",
    "\n",
    "b = 2  = 0010  (&) - 1 = True, 0 = False\n",
    "-------------\n",
    "         0010\n",
    "-------------\n",
    "'''\n",
    "\n",
    "a = 10\n",
    "\n",
    "b = 2\n",
    "\n",
    "print('Bitwise And Operators - (&) : ', a & b)  # 10 & 2 = 2"
   ]
  },
  {
   "cell_type": "code",
   "execution_count": 37,
   "id": "eee8f70b-1c8c-47db-8214-126507cc672e",
   "metadata": {},
   "outputs": [
    {
     "name": "stdout",
     "output_type": "stream",
     "text": [
      "Bitwise Or Operators - (|) :  10\n"
     ]
    }
   ],
   "source": [
    "# 2. Bitwise Or Operators - (|)\n",
    "\n",
    "'''\n",
    "a = 10 = 1010\n",
    " \n",
    "b = 2  = 0010  (|) - 1 = True, 0= False\n",
    "-------------\n",
    "         1010\n",
    "-------------\n",
    "'''\n",
    "\n",
    "a = 10\n",
    "\n",
    "b = 2\n",
    "\n",
    "print('Bitwise Or Operators - (|) : ', a | b)"
   ]
  },
  {
   "cell_type": "code",
   "execution_count": 38,
   "id": "eb5db66d-5ae6-4db0-98a7-99c8a7376cbd",
   "metadata": {},
   "outputs": [
    {
     "name": "stdout",
     "output_type": "stream",
     "text": [
      "Bitwise XOr Operators - (^) :  8\n"
     ]
    }
   ],
   "source": [
    "# 3. Bitwise XOr Operators - (^)\n",
    "\n",
    "'''\n",
    "a = 10 = 1010\n",
    "\n",
    "b = 2  = 0010  (^) - 1 = True, 0 = False\n",
    "-------------\n",
    "         1000\n",
    "-------------\n",
    "'''\n",
    "\n",
    "a = 10\n",
    "\n",
    "b = 2\n",
    "\n",
    "print('Bitwise XOr Operators - (^) : ', a ^ b)\n"
   ]
  },
  {
   "cell_type": "code",
   "execution_count": 39,
   "id": "3a77da12-e551-4945-a8c3-3e76c37ab204",
   "metadata": {},
   "outputs": [
    {
     "name": "stdout",
     "output_type": "stream",
     "text": [
      "Bitwise Not Operators - (~) :  -11\n"
     ]
    }
   ],
   "source": [
    "# 4. Bitwise Not Operators - (~)\n",
    "\n",
    "'''\n",
    "a = 10 \n",
    "\n",
    "~a = -(a + 1)\n",
    "   = -(10 + 1) \n",
    "   = -(11)\n",
    "'''\n",
    "\n",
    "a = 10\n",
    "\n",
    "print('Bitwise Not Operators - (~) : ', ~a)"
   ]
  },
  {
   "cell_type": "code",
   "execution_count": 40,
   "id": "6c9b1dfb-c50e-48ad-9ad4-78ab84971ffb",
   "metadata": {},
   "outputs": [
    {
     "name": "stdout",
     "output_type": "stream",
     "text": [
      "Bitwise Not Operators - (~) :  8\n"
     ]
    }
   ],
   "source": [
    "# 4. Bitwise Not Operators - (~)\n",
    "\n",
    "'''\n",
    "a = -9\n",
    "\n",
    "~a = -(a + 1)\n",
    "   = -(-9 + 1) \n",
    "   = -(-8)\n",
    "'''\n",
    "\n",
    "a = -9\n",
    "\n",
    "print('Bitwise Not Operators - (~) : ', ~a)"
   ]
  },
  {
   "cell_type": "code",
   "execution_count": null,
   "id": "9c44dd22-8392-4737-913c-64669b80939f",
   "metadata": {},
   "outputs": [],
   "source": []
  }
 ],
 "metadata": {
  "kernelspec": {
   "display_name": "Python 3 (ipykernel)",
   "language": "python",
   "name": "python3"
  },
  "language_info": {
   "codemirror_mode": {
    "name": "ipython",
    "version": 3
   },
   "file_extension": ".py",
   "mimetype": "text/x-python",
   "name": "python",
   "nbconvert_exporter": "python",
   "pygments_lexer": "ipython3",
   "version": "3.13.2"
  }
 },
 "nbformat": 4,
 "nbformat_minor": 5
}
