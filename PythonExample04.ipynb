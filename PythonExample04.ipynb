{
 "cells": [
  {
   "cell_type": "markdown",
   "id": "30e65293-adb7-4b91-8c3b-28d57801387a",
   "metadata": {},
   "source": [
    "For Loop\n",
    "--------"
   ]
  },
  {
   "cell_type": "code",
   "execution_count": 5,
   "id": "ab614d95-47b4-45f7-96f9-386cc338e418",
   "metadata": {},
   "outputs": [
    {
     "name": "stdout",
     "output_type": "stream",
     "text": [
      "0\n",
      "1\n",
      "2\n",
      "3\n",
      "4\n",
      "5\n",
      "6\n",
      "7\n",
      "8\n",
      "9\n",
      "10\n"
     ]
    }
   ],
   "source": [
    "for i in range(10):\n",
    "    print(i)"
   ]
  },
  {
   "cell_type": "code",
   "execution_count": 6,
   "id": "7c371d00-0495-45cb-8fd4-cd2aa3234f7f",
   "metadata": {},
   "outputs": [
    {
     "name": "stdout",
     "output_type": "stream",
     "text": [
      "1\n",
      "3\n",
      "5\n",
      "7\n",
      "9\n"
     ]
    }
   ],
   "source": [
    "for i in range(1,10,2):\n",
    "    print(i)"
   ]
  },
  {
   "cell_type": "code",
   "execution_count": 13,
   "id": "2253faa0-7d3e-40ed-9a73-165096ca22e7",
   "metadata": {},
   "outputs": [
    {
     "name": "stdout",
     "output_type": "stream",
     "text": [
      "1, 3, 5, 7, 9, "
     ]
    }
   ],
   "source": [
    "for i in range(1,10,2):\n",
    "    print(i, end=', ')"
   ]
  },
  {
   "cell_type": "code",
   "execution_count": 16,
   "id": "1c927c61-5a31-417e-b824-a40965ed8e49",
   "metadata": {},
   "outputs": [
    {
     "name": "stdout",
     "output_type": "stream",
     "text": [
      "0, 2, 4, 6, 8, 10, 12, 14, "
     ]
    }
   ],
   "source": [
    "n = 15\n",
    "\n",
    "for i in range(0,n,2):\n",
    "    print(i, end=', ')"
   ]
  },
  {
   "cell_type": "code",
   "execution_count": null,
   "id": "d3423abd-1398-413c-a511-1e40321e90a7",
   "metadata": {},
   "outputs": [],
   "source": [
    "'''\n",
    "ToDay Task\n",
    "----------\n",
    "Question 01:\n",
    "------------\n",
    "\n",
    "To Write the Python code for below output\n",
    "\n",
    "Output 01:\n",
    "----------\n",
    "\n",
    "Enter your Limit Number : 10\n",
    "Enter Given value is Odd / Even : Odd\n",
    "\n",
    "1, 3, 5, 7, 9\n",
    "\n",
    "Output 02:\n",
    "----------\n",
    "\n",
    "Enter your Limit Number : 10\n",
    "Enter Given value is Odd / Even : Even\n",
    "\n",
    "0, 2, 4, 6, 8, \n",
    "\n",
    "Question 02:\n",
    "------------\n",
    "To generate Fibonassi, Prime numbers for given limt value\n",
    "'''"
   ]
  },
  {
   "cell_type": "code",
   "execution_count": 19,
   "id": "c40007dd-dc08-46fb-9eb8-4b25456b2f50",
   "metadata": {},
   "outputs": [
    {
     "name": "stdin",
     "output_type": "stream",
     "text": [
      "Enter Given value is Odd / Even :  Even\n"
     ]
    },
    {
     "name": "stdout",
     "output_type": "stream",
     "text": [
      "Even <class 'str'>\n",
      "No Even\n"
     ]
    }
   ],
   "source": [
    "value = input('Enter Given value is Odd / Even : ')\n",
    "\n",
    "print(value, type(value))\n",
    "\n",
    "if (value == 'Odd'):\n",
    "    print('Yes Odd')\n",
    "\n",
    "else:\n",
    "    print('No Even')"
   ]
  },
  {
   "cell_type": "markdown",
   "id": "d3629dc2-3ef1-4eef-826b-db536c575c01",
   "metadata": {},
   "source": [
    "For Loop Example\n",
    "----------------"
   ]
  },
  {
   "cell_type": "code",
   "execution_count": 23,
   "id": "2a890559-9781-4bfa-9e15-56a2a0e91445",
   "metadata": {},
   "outputs": [
    {
     "name": "stdin",
     "output_type": "stream",
     "text": [
      "Enter your name :  admin\n",
      "Enter your age :  25\n"
     ]
    },
    {
     "name": "stdout",
     "output_type": "stream",
     "text": [
      "admin  your age is  25\n",
      "\n"
     ]
    },
    {
     "name": "stdin",
     "output_type": "stream",
     "text": [
      "Enter your name :  Dev\n",
      "Enter your age :  22\n"
     ]
    },
    {
     "name": "stdout",
     "output_type": "stream",
     "text": [
      "Dev  your age is  22\n",
      "\n"
     ]
    }
   ],
   "source": [
    "\n",
    "for i in range(2):\n",
    "    name = input('Enter your name : ')\n",
    "\n",
    "    age = int(input('Enter your age : '))\n",
    "    \n",
    "    print(name, ' your age is ', age)\n",
    "\n",
    "    print('')\n"
   ]
  },
  {
   "cell_type": "markdown",
   "id": "4a216350-3ceb-4cbf-85a0-07e7f0755ad2",
   "metadata": {},
   "source": [
    "Nested Loop:\n",
    "------------"
   ]
  },
  {
   "cell_type": "code",
   "execution_count": 28,
   "id": "549ce6a0-85dc-4481-8556-83a97cc33739",
   "metadata": {},
   "outputs": [
    {
     "name": "stdout",
     "output_type": "stream",
     "text": [
      "1 \n",
      "2 2 \n",
      "3 3 3 \n",
      "4 4 4 4 \n",
      "5 5 5 5 5 \n"
     ]
    }
   ],
   "source": [
    "for i in range(1, 6):\n",
    "    for j in range(i):\n",
    "        print(i, end=' ')\n",
    "\n",
    "    print('')"
   ]
  },
  {
   "cell_type": "code",
   "execution_count": 32,
   "id": "5db1834b-57c9-4cd8-b8ae-35e76e39c3ce",
   "metadata": {},
   "outputs": [
    {
     "name": "stdout",
     "output_type": "stream",
     "text": [
      "1 \n",
      "1 2 \n",
      "1 2 3 \n",
      "1 2 3 4 \n",
      "1 2 3 4 5 \n"
     ]
    }
   ],
   "source": [
    "for i in range(1, 6):\n",
    "    for j in range(1, i+1):\n",
    "        print(j, end=' ')\n",
    "\n",
    "    print('')"
   ]
  },
  {
   "cell_type": "code",
   "execution_count": 38,
   "id": "1b3559d9-7f7f-4b04-a948-8489b7c8a737",
   "metadata": {},
   "outputs": [
    {
     "name": "stdout",
     "output_type": "stream",
     "text": [
      "55555\n",
      "4444\n",
      "333\n",
      "22\n",
      "1\n"
     ]
    }
   ],
   "source": [
    "for i in range(5, 0, -1):\n",
    "    for j in range(i):\n",
    "        print(i, end= '')\n",
    "\n",
    "    print('')"
   ]
  },
  {
   "cell_type": "code",
   "execution_count": 40,
   "id": "f838b4d6-0b76-4d14-94d7-bfde1aa38c63",
   "metadata": {},
   "outputs": [
    {
     "name": "stdout",
     "output_type": "stream",
     "text": [
      "* \n",
      "* * \n",
      "* * * \n",
      "* * * * \n",
      "* * * * * \n"
     ]
    }
   ],
   "source": [
    "for i in range(1, 6):\n",
    "    for j in range(i):\n",
    "        print('*', end=' ')\n",
    "\n",
    "    print('')"
   ]
  },
  {
   "cell_type": "markdown",
   "id": "2e796b8a-29c2-4ecd-95ba-c8ab1c65e984",
   "metadata": {},
   "source": [
    "Asci Values:\n",
    "------------"
   ]
  },
  {
   "cell_type": "code",
   "execution_count": 42,
   "id": "74648d71-9433-42c4-9fef-2c21b2ca4094",
   "metadata": {},
   "outputs": [
    {
     "name": "stdout",
     "output_type": "stream",
     "text": [
      "A\n"
     ]
    }
   ],
   "source": [
    "'''\n",
    "65 - 90 = A - Z\n",
    "97 - 122 = a - z\n",
    "'''\n",
    "\n",
    "print(chr(65))"
   ]
  },
  {
   "cell_type": "code",
   "execution_count": 45,
   "id": "a4dc7c88-c2d4-4df5-91d2-747e09c057f5",
   "metadata": {},
   "outputs": [
    {
     "name": "stdout",
     "output_type": "stream",
     "text": [
      "A B C D E F G H I J K L M N O P Q R S T U V W X Y Z "
     ]
    }
   ],
   "source": [
    "for i in range(65, 91):\n",
    "    print(chr(i), end=' ')"
   ]
  },
  {
   "cell_type": "code",
   "execution_count": null,
   "id": "4fa186d1-0822-4665-abc2-b9f8b0b973b6",
   "metadata": {},
   "outputs": [],
   "source": []
  }
 ],
 "metadata": {
  "kernelspec": {
   "display_name": "Python 3 (ipykernel)",
   "language": "python",
   "name": "python3"
  },
  "language_info": {
   "codemirror_mode": {
    "name": "ipython",
    "version": 3
   },
   "file_extension": ".py",
   "mimetype": "text/x-python",
   "name": "python",
   "nbconvert_exporter": "python",
   "pygments_lexer": "ipython3",
   "version": "3.13.2"
  }
 },
 "nbformat": 4,
 "nbformat_minor": 5
}
